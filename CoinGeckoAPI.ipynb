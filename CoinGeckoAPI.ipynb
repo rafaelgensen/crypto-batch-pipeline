{
 "cells": [
  {
   "cell_type": "code",
   "execution_count": 24,
   "id": "26a14a94-8134-4cfa-9c9b-5db18b192654",
   "metadata": {},
   "outputs": [
    {
     "name": "stdout",
     "output_type": "stream",
     "text": [
      "{'gecko_says': '(V3) To the Moon!'}\n"
     ]
    }
   ],
   "source": [
    "import requests\n",
    "\n",
    "API_KEY = \"CG-HvcvJstvuHKYZCRHafKrWgtd\"\n",
    "BASE_URL = \"https://api.coingecko.com/api/v3\"\n",
    "\n",
    "def ping():\n",
    "    url = f\"{BASE_URL}/ping\"\n",
    "    params = {\"x_cg_demo_api_key\": API_KEY}\n",
    "    resp = requests.get(url, params=params)\n",
    "    \n",
    "    if resp.status_code == 200:\n",
    "        return resp.json()\n",
    "    else:\n",
    "        raise Exception(f\"Erro {resp.status_code}: {resp.text}\")\n",
    "\n",
    "if __name__ == \"__main__\":\n",
    "    print(ping())\n",
    "\n"
   ]
  },
  {
   "cell_type": "code",
   "execution_count": 25,
   "id": "5b872ac8-b083-4967-9ee2-6fb4adfa5877",
   "metadata": {},
   "outputs": [
    {
     "name": "stdout",
     "output_type": "stream",
     "text": [
      "Ok!\n"
     ]
    }
   ],
   "source": [
    "url = f\"{BASE_URL}/coins/markets\"\n",
    "params = {\"x_cg_demo_api_key\": API_KEY, \"vs_currency\" : \"usd\", \"sparkline\" : \"true\", 'per_page': 250}\n",
    "resp = requests.get(url, params=params)\n",
    "\n",
    "if resp.status_code == 200:\n",
    "    print('Ok!')\n",
    "else:\n",
    "    print(f\"Erro {resp.status_code}: {resp.text}\")\n",
    "\n"
   ]
  },
  {
   "cell_type": "code",
   "execution_count": 35,
   "id": "a110655b-4282-4341-98fd-15d72e2850e4",
   "metadata": {},
   "outputs": [
    {
     "data": {
      "text/html": [
       "<div>\n",
       "<style scoped>\n",
       "    .dataframe tbody tr th:only-of-type {\n",
       "        vertical-align: middle;\n",
       "    }\n",
       "\n",
       "    .dataframe tbody tr th {\n",
       "        vertical-align: top;\n",
       "    }\n",
       "\n",
       "    .dataframe thead th {\n",
       "        text-align: right;\n",
       "    }\n",
       "</style>\n",
       "<table border=\"1\" class=\"dataframe\">\n",
       "  <thead>\n",
       "    <tr style=\"text-align: right;\">\n",
       "      <th></th>\n",
       "      <th>name</th>\n",
       "      <th>price_change_percentage_24h</th>\n",
       "      <th>price_change_24h</th>\n",
       "      <th>current_price</th>\n",
       "      <th>market_cap</th>\n",
       "      <th>total_volume</th>\n",
       "      <th>high_24h</th>\n",
       "      <th>low_24h</th>\n",
       "      <th>last_updated</th>\n",
       "    </tr>\n",
       "  </thead>\n",
       "  <tbody>\n",
       "    <tr>\n",
       "      <th>82</th>\n",
       "      <td>MemeCore</td>\n",
       "      <td>21.10117</td>\n",
       "      <td>1.699390e-01</td>\n",
       "      <td>9.752950e-01</td>\n",
       "      <td>1634496350</td>\n",
       "      <td>38609691.0</td>\n",
       "      <td>1.098000e+00</td>\n",
       "      <td>8.029730e-01</td>\n",
       "      <td>2025-09-04T01:02:16.007Z</td>\n",
       "    </tr>\n",
       "    <tr>\n",
       "      <th>231</th>\n",
       "      <td>Rekt</td>\n",
       "      <td>15.82363</td>\n",
       "      <td>1.140390e-07</td>\n",
       "      <td>8.347290e-07</td>\n",
       "      <td>351282571</td>\n",
       "      <td>3555056.0</td>\n",
       "      <td>8.358570e-07</td>\n",
       "      <td>7.156640e-07</td>\n",
       "      <td>2025-09-04T01:02:07.448Z</td>\n",
       "    </tr>\n",
       "    <tr>\n",
       "      <th>217</th>\n",
       "      <td>Keeta</td>\n",
       "      <td>13.11161</td>\n",
       "      <td>1.054460e-01</td>\n",
       "      <td>9.096690e-01</td>\n",
       "      <td>380972549</td>\n",
       "      <td>8923678.0</td>\n",
       "      <td>9.196430e-01</td>\n",
       "      <td>8.022600e-01</td>\n",
       "      <td>2025-09-04T01:02:15.274Z</td>\n",
       "    </tr>\n",
       "    <tr>\n",
       "      <th>96</th>\n",
       "      <td>Four</td>\n",
       "      <td>9.70000</td>\n",
       "      <td>3.222050e-01</td>\n",
       "      <td>3.640000e+00</td>\n",
       "      <td>1384218927</td>\n",
       "      <td>34296158.0</td>\n",
       "      <td>3.640000e+00</td>\n",
       "      <td>3.300000e+00</td>\n",
       "      <td>2025-09-04T01:02:14.029Z</td>\n",
       "    </tr>\n",
       "    <tr>\n",
       "      <th>59</th>\n",
       "      <td>Story</td>\n",
       "      <td>9.42719</td>\n",
       "      <td>7.268960e-01</td>\n",
       "      <td>8.440000e+00</td>\n",
       "      <td>2569032448</td>\n",
       "      <td>171764367.0</td>\n",
       "      <td>8.470000e+00</td>\n",
       "      <td>7.690000e+00</td>\n",
       "      <td>2025-09-04T01:02:08.704Z</td>\n",
       "    </tr>\n",
       "  </tbody>\n",
       "</table>\n",
       "</div>"
      ],
      "text/plain": [
       "         name  price_change_percentage_24h  price_change_24h  current_price  \\\n",
       "82   MemeCore                     21.10117      1.699390e-01   9.752950e-01   \n",
       "231      Rekt                     15.82363      1.140390e-07   8.347290e-07   \n",
       "217     Keeta                     13.11161      1.054460e-01   9.096690e-01   \n",
       "96       Four                      9.70000      3.222050e-01   3.640000e+00   \n",
       "59      Story                      9.42719      7.268960e-01   8.440000e+00   \n",
       "\n",
       "     market_cap  total_volume      high_24h       low_24h  \\\n",
       "82   1634496350    38609691.0  1.098000e+00  8.029730e-01   \n",
       "231   351282571     3555056.0  8.358570e-07  7.156640e-07   \n",
       "217   380972549     8923678.0  9.196430e-01  8.022600e-01   \n",
       "96   1384218927    34296158.0  3.640000e+00  3.300000e+00   \n",
       "59   2569032448   171764367.0  8.470000e+00  7.690000e+00   \n",
       "\n",
       "                 last_updated  \n",
       "82   2025-09-04T01:02:16.007Z  \n",
       "231  2025-09-04T01:02:07.448Z  \n",
       "217  2025-09-04T01:02:15.274Z  \n",
       "96   2025-09-04T01:02:14.029Z  \n",
       "59   2025-09-04T01:02:08.704Z  "
      ]
     },
     "execution_count": 35,
     "metadata": {},
     "output_type": "execute_result"
    }
   ],
   "source": [
    "import pandas as pd\n",
    "\n",
    "df = pd.DataFrame(resp.json())\n",
    "\n"
   ]
  },
  {
   "cell_type": "code",
   "execution_count": null,
   "id": "add67995-3a4d-4c71-816a-7e7c44bcd6be",
   "metadata": {},
   "outputs": [],
   "source": [
    "botton_crypto = df[[ \n",
    "                    'name', \n",
    "                    'price_change_percentage_24h',\n",
    "                    'price_change_24h', \n",
    "                    'current_price', \n",
    "                    'market_cap', \n",
    "                    'total_volume', \n",
    "                    'high_24h', \n",
    "                    'low_24h', \n",
    "                    'last_updated'\n",
    "                ]].sort_values(by = 'price_change_percentage_24h', ascending = True).head(5)\n",
    "\n",
    "top_crypto = df[[ \n",
    "                    'name', \n",
    "                    'price_change_percentage_24h',\n",
    "                    'price_change_24h', \n",
    "                    'current_price', \n",
    "                    'market_cap', \n",
    "                    'total_volume', \n",
    "                    'high_24h', \n",
    "                    'low_24h', \n",
    "                    'last_updated'\n",
    "                ]].sort_values(by = 'price_change_percentage_24h', ascending = False).head(5) "
   ]
  },
  {
   "cell_type": "code",
   "execution_count": null,
   "id": "5bc32ea5-b8b4-46b6-9bc7-d485a29de2d2",
   "metadata": {},
   "outputs": [],
   "source": []
  }
 ],
 "metadata": {
  "kernelspec": {
   "display_name": "Python [conda env:base] *",
   "language": "python",
   "name": "conda-base-py"
  },
  "language_info": {
   "codemirror_mode": {
    "name": "ipython",
    "version": 3
   },
   "file_extension": ".py",
   "mimetype": "text/x-python",
   "name": "python",
   "nbconvert_exporter": "python",
   "pygments_lexer": "ipython3",
   "version": "3.13.5"
  }
 },
 "nbformat": 4,
 "nbformat_minor": 5
}
